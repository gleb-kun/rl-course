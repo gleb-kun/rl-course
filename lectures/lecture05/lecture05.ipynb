{
 "cells": [
  {
   "cell_type": "markdown",
   "id": "3f520532-0d5a-4946-ae9d-cfce914065b7",
   "metadata": {},
   "source": [
    "# Лекция 05. Алгоритмы, основанные на полезностях. Алгоритм Expected SARSA"
   ]
  }
 ],
 "metadata": {
  "kernelspec": {
   "display_name": "Python 3 (ipykernel)",
   "language": "python",
   "name": "python3"
  },
  "language_info": {
   "codemirror_mode": {
    "name": "ipython",
    "version": 3
   },
   "file_extension": ".py",
   "mimetype": "text/x-python",
   "name": "python",
   "nbconvert_exporter": "python",
   "pygments_lexer": "ipython3",
   "version": "3.13.2"
  }
 },
 "nbformat": 4,
 "nbformat_minor": 5
}
