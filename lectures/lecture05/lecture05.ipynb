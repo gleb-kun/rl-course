{
 "cells": [
  {
   "cell_type": "markdown",
   "id": "3f520532-0d5a-4946-ae9d-cfce914065b7",
   "metadata": {},
   "source": [
    "# Лекция 05. Алгоритмы, основанные на полезностях. Алгоритм Expected SARSA"
   ]
  },
  {
   "cell_type": "markdown",
   "id": "26775ebd-f45a-4b86-9eb8-3d410bcc3243",
   "metadata": {},
   "source": [
    "## Источники\n",
    "\n",
    "- Seijen H., Hasselt H., Whiteson S., Wiering M. A Theoretical and Empirical Analysis of Expected Sarsa // Adaptive Dynamic Programming and Reinforcement Learning. 2009. DOI: [10.1109/ADPRL.2009.4927542](http://dx.doi.org/10.1109/ADPRL.2009.4927542).\n",
    "- https://lazyprogrammer.me/reinforcement-learning-algorithms-expected-sarsa\n",
    "- Саттон Р. С., Барто Э. Дж. Обучение с подкреплением: Введение. 2-е изд. М.: ДМК Пресс, 2020. 552 с."
   ]
  }
 ],
 "metadata": {
  "kernelspec": {
   "display_name": "Python 3 (ipykernel)",
   "language": "python",
   "name": "python3"
  },
  "language_info": {
   "codemirror_mode": {
    "name": "ipython",
    "version": 3
   },
   "file_extension": ".py",
   "mimetype": "text/x-python",
   "name": "python",
   "nbconvert_exporter": "python",
   "pygments_lexer": "ipython3",
   "version": "3.13.2"
  }
 },
 "nbformat": 4,
 "nbformat_minor": 5
}
