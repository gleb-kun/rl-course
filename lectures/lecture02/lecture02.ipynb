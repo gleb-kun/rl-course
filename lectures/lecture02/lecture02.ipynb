{
 "cells": [
  {
   "cell_type": "markdown",
   "id": "17a66a17-fb51-4ada-98cb-28dd8187485a",
   "metadata": {},
   "source": [
    "# Лекция 02. Алгоритмы, основанные на стратегиях и полезностях. Алгоритм REINFORCE"
   ]
  },
  {
   "cell_type": "code",
   "execution_count": null,
   "id": "3f949bb2-e36e-4165-ac94-a7de7cd41340",
   "metadata": {},
   "outputs": [],
   "source": []
  }
 ],
 "metadata": {
  "kernelspec": {
   "display_name": "Python 3 (ipykernel)",
   "language": "python",
   "name": "python3"
  },
  "language_info": {
   "codemirror_mode": {
    "name": "ipython",
    "version": 3
   },
   "file_extension": ".py",
   "mimetype": "text/x-python",
   "name": "python",
   "nbconvert_exporter": "python",
   "pygments_lexer": "ipython3",
   "version": "3.13.2"
  }
 },
 "nbformat": 4,
 "nbformat_minor": 5
}
