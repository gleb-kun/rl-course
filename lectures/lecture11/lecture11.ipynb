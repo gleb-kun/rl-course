{
 "cells": [
  {
   "cell_type": "markdown",
   "id": "cf7e6751-0b2b-4fec-b86c-0047003dab7d",
   "metadata": {},
   "source": [
    "# Лекция 11. Практическая работа с глубоким RL"
   ]
  }
 ],
 "metadata": {
  "kernelspec": {
   "display_name": "Python 3 (ipykernel)",
   "language": "python",
   "name": "python3"
  },
  "language_info": {
   "codemirror_mode": {
    "name": "ipython",
    "version": 3
   },
   "file_extension": ".py",
   "mimetype": "text/x-python",
   "name": "python",
   "nbconvert_exporter": "python",
   "pygments_lexer": "ipython3",
   "version": "3.13.2"
  }
 },
 "nbformat": 4,
 "nbformat_minor": 5
}
