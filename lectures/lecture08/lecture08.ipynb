{
 "cells": [
  {
   "cell_type": "markdown",
   "id": "1cbfaf21-96b6-4dc4-aea3-eed7d6dadba7",
   "metadata": {},
   "source": [
    "# Лекция 08. Комбинированные методы. Методы параллелизации"
   ]
  }
 ],
 "metadata": {
  "kernelspec": {
   "display_name": "Python 3 (ipykernel)",
   "language": "python",
   "name": "python3"
  },
  "language_info": {
   "codemirror_mode": {
    "name": "ipython",
    "version": 3
   },
   "file_extension": ".py",
   "mimetype": "text/x-python",
   "name": "python",
   "nbconvert_exporter": "python",
   "pygments_lexer": "ipython3",
   "version": "3.13.2"
  }
 },
 "nbformat": 4,
 "nbformat_minor": 5
}
