{
 "cells": [
  {
   "cell_type": "markdown",
   "id": "af6a253a-e08f-4daa-aacd-1c8f77bb58af",
   "metadata": {},
   "source": [
    "# Лекция 09. Комбинированные методы. Оптимизация ближайшей стратегии"
   ]
  },
  {
   "cell_type": "markdown",
   "id": "b0543e13-d64b-42a0-809e-8b9699bf9714",
   "metadata": {},
   "source": [
    "PPO (Proximal Policy Optimization)"
   ]
  }
 ],
 "metadata": {
  "kernelspec": {
   "display_name": "Python 3 (ipykernel)",
   "language": "python",
   "name": "python3"
  },
  "language_info": {
   "codemirror_mode": {
    "name": "ipython",
    "version": 3
   },
   "file_extension": ".py",
   "mimetype": "text/x-python",
   "name": "python",
   "nbconvert_exporter": "python",
   "pygments_lexer": "ipython3",
   "version": "3.13.2"
  }
 },
 "nbformat": 4,
 "nbformat_minor": 5
}
