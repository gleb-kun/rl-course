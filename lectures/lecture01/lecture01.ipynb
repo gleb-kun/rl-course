{
 "cells": [
  {
   "cell_type": "markdown",
   "id": "7222ba2a-088e-4225-b076-7677ec12e9d3",
   "metadata": {},
   "source": [
    "# Лекция 01. Введение в обучение с подкреплением"
   ]
  },
  {
   "cell_type": "markdown",
   "id": "d4fa4d9d-e88f-489a-bab0-55bbdff49b54",
   "metadata": {},
   "source": [
    "## Обучение с подкреплением\n",
    "\n",
    "Обучение с подкреплением (reinforcement learning, RL)."
   ]
  },
  {
   "cell_type": "markdown",
   "id": "896e15b2-e7c7-4e50-8de4-dc2a69db012a",
   "metadata": {},
   "source": [
    "### Фреймворк SLM-lab\n",
    "\n",
    "- Официальный репозиторий: `https://github.com/kengz/SLM-Lab`\n",
    "- База знаний: `https://slm-lab.gitbook.io/slm-lab`\n",
    "- Установка: `https://slm-lab.gitbook.io/slm-lab/setup/installation`"
   ]
  },
  {
   "cell_type": "markdown",
   "id": "30fee8fc-65fe-4336-b050-1121baa6b2fa",
   "metadata": {},
   "source": [
    "### Цикл управления агентом в обучении с подкреплением\n",
    "\n"
   ]
  },
  {
   "cell_type": "markdown",
   "id": "fca939ce-45a3-4c36-898a-4e4d88691b48",
   "metadata": {},
   "source": [
    "Введем следующие обозначения.\n",
    "\tСостояние:\n",
    "\t\\begin{equation}\n",
    "\t\ts_t\\in S,\n",
    "\t\\end{equation}\n",
    "\tгде $S$ --- пространство состояний.\n",
    "\tДействие:\n",
    "\t\\begin{equation}\n",
    "\t\ta_t\\in A,\n",
    "\t\\end{equation}\n",
    "\tгде $A$ --- пространство действий.\n",
    "\tВознаграждение:\n",
    "\t\\begin{equation}\n",
    "\t\tr_t=R\\left(s_t,a_t,s_{t+1}\\right),\n",
    "\t\\end{equation}\n",
    "\tгде $R$ --- функция вознаграждения.\n",
    "\t\n",
    "Пространства $S, A$ и функция $R$ составляют кортежи $\\left(s, a, r\\right)$."
   ]
  },
  {
   "cell_type": "markdown",
   "id": "c6343eba-beb5-47cf-a80d-ce23eb5a3322",
   "metadata": {},
   "source": [
    "## Обучение с подкреплением как МППР"
   ]
  },
  {
   "cell_type": "markdown",
   "id": "f5ed8d91-34ec-4a07-9c12-563601ab7dfc",
   "metadata": {},
   "source": [
    "## Обучение функции в обучении с подкреплением"
   ]
  },
  {
   "cell_type": "markdown",
   "id": "4498f5d8-a8d9-47f1-8414-7f49e4a3e7f7",
   "metadata": {},
   "source": [
    "## Алгоритмы глубокого обучения с подкреплением"
   ]
  },
  {
   "cell_type": "markdown",
   "id": "094c5794-ff35-40d8-a07e-0f16e5890bcb",
   "metadata": {},
   "source": [
    "## Глубокое обучение для обучения с подкреплением"
   ]
  },
  {
   "cell_type": "markdown",
   "id": "dcd9fc57-412f-41db-9e1a-d578e7e13394",
   "metadata": {},
   "source": [
    "## Обучение с подкреплением и обучение с учителем"
   ]
  },
  {
   "cell_type": "markdown",
   "id": "5fb9edd2-5822-4729-adde-219956a7e71e",
   "metadata": {},
   "source": [
    "## Заключение"
   ]
  }
 ],
 "metadata": {
  "kernelspec": {
   "display_name": "Python 3 (ipykernel)",
   "language": "python",
   "name": "python3"
  },
  "language_info": {
   "codemirror_mode": {
    "name": "ipython",
    "version": 3
   },
   "file_extension": ".py",
   "mimetype": "text/x-python",
   "name": "python",
   "nbconvert_exporter": "python",
   "pygments_lexer": "ipython3",
   "version": "3.13.1"
  }
 },
 "nbformat": 4,
 "nbformat_minor": 5
}
