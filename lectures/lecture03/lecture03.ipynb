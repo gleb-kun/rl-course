{
 "cells": [
  {
   "cell_type": "markdown",
   "id": "ba32e87d-e9f4-40cc-a6be-c89d5f5173d3",
   "metadata": {},
   "source": [
    "# Лекция 03. Алгоритмы, основанные на стратегиях и полезностях. Алгоритм SARSA"
   ]
  }
 ],
 "metadata": {
  "kernelspec": {
   "display_name": "Python 3 (ipykernel)",
   "language": "python",
   "name": "python3"
  },
  "language_info": {
   "codemirror_mode": {
    "name": "ipython",
    "version": 3
   },
   "file_extension": ".py",
   "mimetype": "text/x-python",
   "name": "python",
   "nbconvert_exporter": "python",
   "pygments_lexer": "ipython3",
   "version": "3.13.2"
  }
 },
 "nbformat": 4,
 "nbformat_minor": 5
}
