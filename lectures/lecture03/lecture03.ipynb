{
 "cells": [
  {
   "cell_type": "markdown",
   "id": "43266caa-f627-415e-976f-9e567245e421",
   "metadata": {},
   "source": [
    "# Лекция 03. Алгоритмы, основанные на полезностях. Многорукие бандиты"
   ]
  },
  {
   "cell_type": "code",
   "execution_count": null,
   "id": "ebf5e6e2-8119-4ca0-b8b2-a6a82e3f7276",
   "metadata": {},
   "outputs": [],
   "source": []
  }
 ],
 "metadata": {
  "kernelspec": {
   "display_name": "Python 3 (ipykernel)",
   "language": "python",
   "name": "python3"
  },
  "language_info": {
   "codemirror_mode": {
    "name": "ipython",
    "version": 3
   },
   "file_extension": ".py",
   "mimetype": "text/x-python",
   "name": "python",
   "nbconvert_exporter": "python",
   "pygments_lexer": "ipython3",
   "version": "3.13.2"
  }
 },
 "nbformat": 4,
 "nbformat_minor": 5
}
