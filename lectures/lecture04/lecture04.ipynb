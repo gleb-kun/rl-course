{
 "cells": [
  {
   "cell_type": "markdown",
   "id": "3b600f03-1a73-4126-a6ff-9c6197d37c8d",
   "metadata": {},
   "source": [
    "# Лекция 04. Алгоритмы, основанные на стратегиях и полезностях. Алгоритм глубоких Q-сетей (DQN)"
   ]
  }
 ],
 "metadata": {
  "kernelspec": {
   "display_name": "Python 3 (ipykernel)",
   "language": "python",
   "name": "python3"
  },
  "language_info": {
   "codemirror_mode": {
    "name": "ipython",
    "version": 3
   },
   "file_extension": ".py",
   "mimetype": "text/x-python",
   "name": "python",
   "nbconvert_exporter": "python",
   "pygments_lexer": "ipython3",
   "version": "3.13.2"
  }
 },
 "nbformat": 4,
 "nbformat_minor": 5
}
