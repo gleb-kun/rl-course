{
 "cells": [
  {
   "cell_type": "markdown",
   "id": "0aa1d0b4-0e24-4be9-bf3e-0dbf92db20a6",
   "metadata": {},
   "source": [
    "# Лекция 07. Улучшение DQN"
   ]
  },
  {
   "cell_type": "markdown",
   "id": "1d835b71-5a32-4dbb-ac20-06a472576539",
   "metadata": {},
   "source": [
    "## Источники\n",
    "\n",
    "- Грессер Л., Кенг В. Л. Глубокое обучение с подкреплением: теория и практика на языке Python. СПб.: Питер, 2022. 416 с. [[PDF](../../common/literature/graesser-keng.pdf)].\n",
    "- Mnih V., Kavukcuoglu K., Silver D., Rusu A. A., Veness J., Bellemare M. G., Graves A. Human-Level Control through Deep Reinforcement Learning // Nature. 2015. Vol. 518 (7540). P. 529–533. DOI: [10.1038/nature14236](https://doi.org/10.1038/nature14236). [[PDF](literature/mnih2015.pdf)].\n",
    "- Hasselt H., Guez A., Silver D. Deep Reinforcement Learning with Double Q-Learning // Proceedings of the AAAI Conference on Artificial IntelligenceVol. 2016. Vol. 30. No. 1. P. 2094–2100. DOI: [10.1609/aaai.v30i1.10295](https://doi.org/10.1609/aaai.v30i1.10295). [[PDF](literature/hasselt.pdf)].\n",
    "- Schaul T. Quan J., Antonoglou I., Silver D. Prioritized Experience Replay. 2015. URL: https://arxiv.org/abs/1511.05952. [[PDF](literature/schaul.pdf)]."
   ]
  },
  {
   "cell_type": "markdown",
   "id": "85e0d6d0-608b-4f75-a787-ce69a8279b49",
   "metadata": {},
   "source": [
    "## Прогнозные сети"
   ]
  },
  {
   "cell_type": "markdown",
   "id": "9e8d6e98-dccd-412c-95bc-c6aa96b98af4",
   "metadata": {},
   "source": [
    "## Двойная DQN"
   ]
  },
  {
   "cell_type": "markdown",
   "id": "eae3a26a-716a-479c-bca9-19d113239ab6",
   "metadata": {},
   "source": [
    "## Приоритизированная память прецедентов"
   ]
  }
 ],
 "metadata": {
  "kernelspec": {
   "display_name": "Python 3 (ipykernel)",
   "language": "python",
   "name": "python3"
  },
  "language_info": {
   "codemirror_mode": {
    "name": "ipython",
    "version": 3
   },
   "file_extension": ".py",
   "mimetype": "text/x-python",
   "name": "python",
   "nbconvert_exporter": "python",
   "pygments_lexer": "ipython3",
   "version": "3.13.2"
  }
 },
 "nbformat": 4,
 "nbformat_minor": 5
}
