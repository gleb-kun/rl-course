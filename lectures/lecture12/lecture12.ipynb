{
 "cells": [
  {
   "cell_type": "markdown",
   "id": "f96c010e-e280-4d0e-8724-b94fe0f9fb7b",
   "metadata": {},
   "source": [
    "# Лекция 12. Комбинированные методы, основанные на модели среды и полезности и/или стратегии"
   ]
  },
  {
   "cell_type": "markdown",
   "id": "ba95186d-5ede-434e-9478-ce85bcd3b82e",
   "metadata": {},
   "source": [
    "## Dyna-Q / Dyna-AC"
   ]
  },
  {
   "cell_type": "markdown",
   "id": "c5cf3cb3-ec72-4a91-a434-001778fdd3e4",
   "metadata": {},
   "source": [
    "## AlphaZero"
   ]
  },
  {
   "cell_type": "markdown",
   "id": "5e5b5b5f-e17f-4643-8a40-694bf5ea8a01",
   "metadata": {},
   "source": [
    "## I2A — агенты, дополненные воображением"
   ]
  },
  {
   "cell_type": "markdown",
   "id": "48fe27b0-716f-46bf-8068-1174a295c1dd",
   "metadata": {},
   "source": [
    "## VPN — нейронные сети прогнозирования полезности"
   ]
  },
  {
   "cell_type": "code",
   "execution_count": null,
   "id": "812923d5-8838-44ac-9bb0-239502b9fc08",
   "metadata": {},
   "outputs": [],
   "source": []
  }
 ],
 "metadata": {
  "kernelspec": {
   "display_name": "Python 3 (ipykernel)",
   "language": "python",
   "name": "python3"
  },
  "language_info": {
   "codemirror_mode": {
    "name": "ipython",
    "version": 3
   },
   "file_extension": ".py",
   "mimetype": "text/x-python",
   "name": "python",
   "nbconvert_exporter": "python",
   "pygments_lexer": "ipython3",
   "version": "3.13.2"
  }
 },
 "nbformat": 4,
 "nbformat_minor": 5
}
