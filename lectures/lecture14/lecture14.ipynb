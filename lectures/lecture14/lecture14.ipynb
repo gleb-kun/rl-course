{
 "cells": [
  {
   "cell_type": "markdown",
   "id": "5964f935-b60c-4280-a0bd-5f18c22af60a",
   "metadata": {},
   "source": [
    "# Лекция 14. Среды. Проектирование сред"
   ]
  },
  {
   "cell_type": "code",
   "execution_count": null,
   "id": "1d940694-713f-4d02-a804-342ae787909c",
   "metadata": {},
   "outputs": [],
   "source": []
  }
 ],
 "metadata": {
  "kernelspec": {
   "display_name": "Python 3 (ipykernel)",
   "language": "python",
   "name": "python3"
  },
  "language_info": {
   "codemirror_mode": {
    "name": "ipython",
    "version": 3
   },
   "file_extension": ".py",
   "mimetype": "text/x-python",
   "name": "python",
   "nbconvert_exporter": "python",
   "pygments_lexer": "ipython3",
   "version": "3.13.2"
  }
 },
 "nbformat": 4,
 "nbformat_minor": 5
}
